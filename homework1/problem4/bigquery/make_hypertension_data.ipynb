{
  "nbformat": 4,
  "nbformat_minor": 0,
  "metadata": {
    "colab": {
      "name": "make_hypertension_data.ipynb",
      "private_outputs": true,
      "provenance": [],
      "collapsed_sections": []
    },
    "kernelspec": {
      "name": "python3",
      "display_name": "Python 3"
    },
    "language_info": {
      "name": "python"
    }
  },
  "cells": [
    {
      "cell_type": "code",
      "metadata": {
        "id": "2lSCOmMn-3l4"
      },
      "source": [
        "from google.colab import auth, drive\n",
        "auth.authenticate_user()"
      ],
      "execution_count": null,
      "outputs": []
    },
    {
      "cell_type": "code",
      "metadata": {
        "id": "spgPidVU-7NE"
      },
      "source": [
        "drive.mount('/content/gdrive')"
      ],
      "execution_count": null,
      "outputs": []
    },
    {
      "cell_type": "code",
      "metadata": {
        "id": "dHVnLD15_SYy"
      },
      "source": [
        "import numpy as np\n",
        "import pandas as pd\n",
        "import os \n",
        "import random\n",
        "from scipy.stats import ks_2samp\n",
        "from pandas.core.common import SettingWithCopyWarning\n",
        "import warnings\n",
        "from pathlib import Path\n",
        "from google.cloud import bigquery\n",
        "\n",
        "warnings.simplefilter(action=\"ignore\", category=SettingWithCopyWarning)\n",
        "\n",
        "mimicdir = '/content/gdrive/My Drive/hst953_hw1/mimic_data'\n",
        "Path(mimicdir).mkdir(parents = True, exist_ok = True)\n",
        "\n",
        "random.seed(42)\n",
        "np.random.seed(42)"
      ],
      "execution_count": null,
      "outputs": []
    },
    {
      "cell_type": "code",
      "metadata": {
        "id": "MMacSmqSBcQ5"
      },
      "source": [
        "# Change this to your own project id from BigQuery\n",
        "project_id='CHANGE THIS'\n",
        "\n",
        "def run_query(query):\n",
        "    return pd.io.gbq.read_gbq(query, project_id=project_id, dialect=\"standard\")\n"
      ],
      "execution_count": null,
      "outputs": []
    },
    {
      "cell_type": "code",
      "metadata": {
        "id": "ohE0cJibBe7T"
      },
      "source": [
        "# Select all patients ever admitted\n",
        "all_patients_query = \"\"\"\n",
        "    select distinct subject_id, hadm_id\n",
        "    from `physionet-data.mimiciii_clinical.diagnoses_icd`;\n",
        "\"\"\"\n",
        "all_patients = run_query(all_patients_query)"
      ],
      "execution_count": null,
      "outputs": []
    },
    {
      "cell_type": "code",
      "metadata": {
        "id": "usQXXOm_c_lt"
      },
      "source": [
        "# Select patients with and without hypertension\n",
        "patients_with_hypertension_query = \"\"\"\n",
        "    select subject_id, hadm_id\n",
        "    from `physionet-data.mimiciii_clinical.diagnoses_icd`\n",
        "    where icd9_code in ('4010', '4011', '4019');\n",
        "\"\"\"\n",
        "patients_with_hypertension = run_query(patients_with_hypertension_query)"
      ],
      "execution_count": null,
      "outputs": []
    },
    {
      "cell_type": "code",
      "metadata": {
        "id": "kRlPQvLUdu0s"
      },
      "source": [
        "all_patients['hypertension'] = 0\n",
        "all_patients.loc[all_patients['hadm_id'].isin(patients_with_hypertension['hadm_id']), 'hypertension'] = 1\n",
        "\n",
        "# Train test split\n",
        "msk = np.random.rand(len(all_patients)) < 0.7\n",
        "all_patients['train'] = np.where(msk, 1, 0) \n",
        "\n",
        "all_patients.to_csv(os.path.join(mimicdir, 'hypertension_patients.gz'), compression='gzip', index = False)"
      ],
      "execution_count": null,
      "outputs": []
    },
    {
      "cell_type": "code",
      "metadata": {
        "id": "ue5ZE9XSdyaI"
      },
      "source": [
        "# Pull chartevents\n",
        "chartevents_query = \"\"\"\n",
        "    select subject_id, hadm_id, charttime, itemid, valuenum\n",
        "    from `physionet-data.mimiciii_clinical.chartevents`\n",
        "    where itemid in (220045, 220210, 220277, 220181);\n",
        "\"\"\"\n",
        "\n",
        "chartevents_table = run_query(chartevents_query)\n",
        "chartevents_table.to_csv(os.path.join(mimicdir, 'hypertension_charts.gz'), compression='gzip', index = False)"
      ],
      "execution_count": null,
      "outputs": []
    }
  ]
}