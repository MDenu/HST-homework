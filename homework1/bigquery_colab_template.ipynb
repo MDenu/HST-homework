{
  "nbformat": 4,
  "nbformat_minor": 0,
  "metadata": {
    "colab": {
      "name": "HST953 BigQuery Template.ipynb",
      "private_outputs": true,
      "provenance": [],
      "collapsed_sections": []
    },
    "kernelspec": {
      "name": "python3",
      "display_name": "Python 3"
    },
    "language_info": {
      "name": "python"
    }
  },
  "cells": [
    {
      "cell_type": "code",
      "metadata": {
        "id": "Or0Fd__KysRR"
      },
      "source": [
        "from google.colab import auth, drive\n",
        "auth.authenticate_user()"
      ],
      "execution_count": null,
      "outputs": []
    },
    {
      "cell_type": "code",
      "metadata": {
        "id": "2YRRc7YOzRTe"
      },
      "source": [
        "drive.mount('/content/gdrive')"
      ],
      "execution_count": null,
      "outputs": []
    },
    {
      "cell_type": "code",
      "metadata": {
        "id": "7qfVkr1MzXgu"
      },
      "source": [
        "# Potentially useful imports\n",
        "# Might not all be necessary for your purposes\n",
        "import numpy as np\n",
        "import pandas as pd\n",
        "import os \n",
        "import random\n",
        "from pathlib import Path\n",
        "from google.cloud import bigquery\n",
        "\n",
        "# Path to saved data\n",
        "mimicdir = '/content/gdrive/My Drive/hst953_hw1/mimic_data'\n"
      ],
      "execution_count": null,
      "outputs": []
    },
    {
      "cell_type": "code",
      "metadata": {
        "id": "aPSWDfYV0HFk"
      },
      "source": [
        "# Change this to your own dummy project id from BigQuery\n",
        "project_id='CHANGE THIS'\n",
        "\n",
        "def run_query(query):\n",
        "    return pd.io.gbq.read_gbq(query, project_id=project_id, dialect=\"standard\")"
      ],
      "execution_count": null,
      "outputs": []
    },
    {
      "cell_type": "code",
      "metadata": {
        "id": "onc-ywX61-_U"
      },
      "source": [
        "query = \"\"\"\n",
        "SELECT COUNT(*)\n",
        "FROM `physionet-data.mimiciii_clinical.patients`\n",
        "\"\"\"\n",
        "\n",
        "res = run_query(query)"
      ],
      "execution_count": null,
      "outputs": []
    },
    {
      "cell_type": "code",
      "metadata": {
        "id": "beag2dEn3NbR"
      },
      "source": [
        "res.head()"
      ],
      "execution_count": null,
      "outputs": []
    }
  ]
}