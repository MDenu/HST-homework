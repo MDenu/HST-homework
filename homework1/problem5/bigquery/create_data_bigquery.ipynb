{
 "cells": [
  {
   "cell_type": "code",
   "execution_count": null,
   "metadata": {
    "colab": {},
    "colab_type": "code",
    "id": "mbnjwkfRXNm0"
   },
   "outputs": [],
   "source": [
    "from google.colab import auth, drive\n",
    "auth.authenticate_user()"
   ]
  },
  {
   "cell_type": "code",
   "execution_count": null,
   "metadata": {},
   "outputs": [],
   "source": [
    "drive.mount('/content/gdrive')"
   ]
  },
  {
   "cell_type": "code",
   "execution_count": null,
   "metadata": {
    "colab": {},
    "colab_type": "code",
    "id": "uhKjkFQdXWa5"
   },
   "outputs": [],
   "source": [
    "import numpy as np\n",
    "import pandas as pd\n",
    "import os\n",
    "import random\n",
    "from pathlib import Path\n",
    "from pandas.core.common import SettingWithCopyWarning\n",
    "import warnings\n",
    "import yaml\n",
    "from google.cloud import bigquery\n",
    "\n",
    "warnings.simplefilter(action=\"ignore\", category=SettingWithCopyWarning)\n",
    "\n",
    "mimicdir = '/content/gdrive/My Drive/hst953_hw1/mimic_data'\n",
    "Path(mimicdir).mkdir(parents = True, exist_ok = True)\n",
    "\n",
    "random.seed(42)\n",
    "np.random.seed(42)"
   ]
  },
  {
   "cell_type": "code",
   "execution_count": null,
   "metadata": {
    "colab": {},
    "colab_type": "code",
    "id": "ucU5rKjKXOgS"
   },
   "outputs": [],
   "source": [
    "project_id='CHANGE_THIS'\n",
    "\n",
    "def run_query(query):\n",
    "    return pd.io.gbq.read_gbq(query, project_id=project_id, dialect=\"standard\")"
   ]
  },
  {
   "cell_type": "code",
   "execution_count": null,
   "metadata": {
    "colab": {},
    "colab_type": "code",
    "id": "Iig1fz5ZXQQa"
   },
   "outputs": [],
   "source": [
    "denquery = \"\"\"\n",
    "SELECT ie.subject_id, ie.hadm_id, ie.icustay_id\n",
    ", pat.gender\n",
    ", adm.admittime, adm.dischtime, adm.diagnosis\n",
    ", DATETIME_DIFF(ie.intime, pat.dob, YEAR) as age\n",
    ", adm.ethnicity, adm.ADMISSION_TYPE, adm.language, adm.insurance\n",
    ", adm.hospital_expire_flag\n",
    ", CASE when adm.deathtime between ie.intime and ie.outtime THEN 1 ELSE 0 END AS mort_icu\n",
    ", DENSE_RANK() OVER (PARTITION BY adm.subject_id ORDER BY adm.admittime) AS hospstay_seq\n",
    ", CASE\n",
    "    WHEN DENSE_RANK() OVER (PARTITION BY adm.subject_id ORDER BY adm.admittime) = 1 THEN 1\n",
    "    ELSE 0 END AS first_hosp_stay\n",
    ", ie.intime, ie.outtime\n",
    ", ie.FIRST_CAREUNIT as first_careunit\n",
    ", DENSE_RANK() OVER (PARTITION BY ie.hadm_id ORDER BY ie.intime) AS icustay_seq\n",
    "\n",
    ", CASE\n",
    "    WHEN DENSE_RANK() OVER (PARTITION BY ie.hadm_id ORDER BY ie.intime) = 1 THEN 1\n",
    "    ELSE 0 END AS first_icu_stay\n",
    "\n",
    "FROM `physionet-data.mimiciii_clinical.icustays` ie\n",
    "INNER JOIN `physionet-data.mimiciii_clinical.admissions` adm\n",
    "    ON ie.hadm_id = adm.hadm_id\n",
    "INNER JOIN `physionet-data.mimiciii_clinical.patients` pat\n",
    "    ON ie.subject_id = pat.subject_id\n",
    "WHERE adm.has_chartevents_data = 1\n",
    "ORDER BY ie.subject_id, adm.admittime, ie.intime;\n",
    "\"\"\"\n",
    "\n",
    "den = run_query(denquery)"
   ]
  },
  {
   "cell_type": "code",
   "execution_count": null,
   "metadata": {
    "colab": {},
    "colab_type": "code",
    "id": "hEtPLvbgYyUA"
   },
   "outputs": [],
   "source": [
    "den['los_icu_hr'] = (den.outtime - den.intime).astype('timedelta64[h]')\n",
    "den = den[(den.los_icu_hr >= 48)]\n",
    "den = den[(den.age<300)]\n",
    "den.drop('los_icu_hr', 1, inplace = True)\n",
    "den = den[(den.first_hosp_stay == 1) & (den.first_icu_stay == 1)]\n",
    "den = den[~(den['first_careunit'].isin(['PICU', 'NICU']))]\n",
    "\n",
    "den.ethnicity = den.ethnicity.str.lower()\n",
    "den.ethnicity.loc[(den.ethnicity.str.contains('^white'))] = 'white'\n",
    "den.ethnicity.loc[(den.ethnicity.str.contains('^black'))] = 'black'\n",
    "den.ethnicity.loc[(den.ethnicity.str.contains('^hisp')) | (den.ethnicity.str.contains('^latin'))] = 'hispanic'\n",
    "den.ethnicity.loc[(den.ethnicity.str.contains('^asia'))] = 'asian'\n",
    "den.ethnicity.loc[~(den.ethnicity.str.contains('|'.join(['white', 'black', 'hispanic', 'asian'])))] = 'other'\n",
    "\n",
    "den.drop(['diagnosis', 'hospstay_seq', 'icustay_seq', 'outtime', 'first_careunit', 'first_hosp_stay', 'first_icu_stay'], 1, inplace =True)\n",
    "\n",
    "def map_lang(x):\n",
    "    if x == 'ENGL':\n",
    "        return 'English'\n",
    "    if pd.isnull(x):\n",
    "        return 'Missing'\n",
    "    return 'Other'\n",
    "den['language'] = den['language'].apply(map_lang)"
   ]
  },
  {
   "cell_type": "code",
   "execution_count": null,
   "metadata": {
    "colab": {},
    "colab_type": "code",
    "id": "PVkEuQ5ybPTe"
   },
   "outputs": [],
   "source": [
    "with open('./icd9_codes.yml', 'r') as f:\n",
    "    ccs = pd.DataFrame.from_dict(yaml.load(f)).T\n",
    "\n",
    "icd = run_query('select * from `physionet-data.mimiciii_clinical.diagnoses_icd`')\n",
    "icd.columns = map(str.lower, icd.columns)\n",
    "icd = (icd.groupby(['subject_id','hadm_id'], as_index = False)\n",
    "       .agg({'icd9_code': list})\n",
    "      .merge(den[['subject_id', 'hadm_id']], on = ['subject_id', 'hadm_id'], how = 'inner')\n",
    "      .explode('icd9_code'))\n",
    "\n",
    "icd = (pd.merge(icd, (ccs[ccs['use_in_benchmark']]\n",
    "                     .reset_index()\n",
    "                     .explode('codes')), left_on = 'icd9_code', right_on = 'codes', how = 'inner')\n",
    "      .rename(columns = {'index': 'name'}).drop(columns = ['use_in_benchmark', 'id', 'type', 'codes']))\n",
    "\n",
    "targets = list(ccs[ccs['use_in_benchmark']].index)\n",
    "target_df = icd.pivot_table(index = ['subject_id', 'hadm_id'], columns = 'name', values = 'icd9_code', aggfunc = lambda x: x)\n",
    "target_df = (target_df.where(pd.isnull(target_df), 1)\n",
    "             .fillna(0)\n",
    "             .reset_index())\n",
    "\n",
    "target_df['any acute'] = target_df[ccs[(ccs['use_in_benchmark']) & (ccs['type'] == 'acute')].index].any(axis = 1).astype(int)\n",
    "target_df['any chronic'] = target_df[ccs[(ccs['use_in_benchmark']) & (ccs['type'] == 'chronic')].index].any(axis = 1).astype(int)\n",
    "\n",
    "mapping = pd.read_csv('./mapping.csv').set_index('before')['after'].to_dict()\n",
    "target_df = target_df.rename(columns = mapping)\n",
    "den = pd.merge(den, target_df, how = 'left', on = ['subject_id', 'hadm_id'])\n",
    "\n",
    "for col in mapping.values():\n",
    "    den[col] = den[col].fillna(0)"
   ]
  },
  {
   "cell_type": "code",
   "execution_count": null,
   "metadata": {
    "colab": {},
    "colab_type": "code",
    "id": "POqRVZK6bvWL"
   },
   "outputs": [],
   "source": [
    "notesquery = \"\"\"\n",
    "select row_id as note_id, subject_id, hadm_id, chartdate, charttime, category, text\n",
    "from `physionet-data.mimiciii_notes.noteevents`\n",
    "where category in ('Discharge summary', 'Nursing', 'Nursing/other')\n",
    "\"\"\"\n",
    "\n",
    "notes = run_query(notesquery)\n",
    "notes = notes[(notes.hadm_id.isin(den.hadm_id))]\n",
    "notes['text'] = notes['text'].str.lower().apply(str.strip).fillna('')\n",
    "notes['text'] = (notes['text'].str.replace(r'(-){2,}|_{2,}|={2,}', '')\n",
    "                 .str.replace(r'[0-9]+\\.', '')\n",
    "                 .str.replace(r'\\[(.*?)\\]', '')\n",
    "                 .str.replace(r'dr\\.', 'doctor')\n",
    "                 .str.replace(r'm\\.d\\.', 'md')\n",
    "                 .str.replace(r'admission date:', '')\n",
    "                 .str.replace(r'discharge date:', '')\n",
    "                 .str.replace(r'\\n', ' ')\n",
    "                 .str.replace(r'\\r', ' ')\n",
    "                )\n",
    "\n",
    "den = den[den['subject_id'].isin(notes['subject_id'])] #drop people with no notes\n",
    "\n",
    "msk = np.random.rand(len(den)) < 0.7\n",
    "den['train'] = np.where(msk, 1, 0)\n",
    "den.to_hdf(os.path.join(mimicdir, 'cohort.h5'), 'cohort', index = False)\n",
    "notes.to_hdf(os.path.join(mimicdir, 'notes.h5'), 'notes', index = False)"
   ]
  }
 ],
 "metadata": {
  "colab": {
   "collapsed_sections": [],
   "name": "create_data_bigquery.ipynb",
   "provenance": []
  },
  "kernelspec": {
   "display_name": "Python 3 (ipykernel)",
   "language": "python",
   "name": "python3"
  },
  "language_info": {
   "codemirror_mode": {
    "name": "ipython",
    "version": 3
   },
   "file_extension": ".py",
   "mimetype": "text/x-python",
   "name": "python",
   "nbconvert_exporter": "python",
   "pygments_lexer": "ipython3",
   "version": "3.9.6"
  }
 },
 "nbformat": 4,
 "nbformat_minor": 1
}
